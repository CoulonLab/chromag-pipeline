{
 "cells": [
  {
   "cell_type": "code",
   "execution_count": null,
   "metadata": {},
   "outputs": [],
   "source": [
    "import tracking as trk\n",
    "\n",
    "#trk.fijiCmd='/Applications/Fiji.app/Contents/MacOS/ImageJ-macosx'\n",
    "trk.fijiCmd='C:/Users/Coulon_team/.Fiji.app/ImageJ-win64.exe'"
   ]
  },
  {
   "cell_type": "markdown",
   "metadata": {},
   "source": [
    "## Manual tracking\n",
    "\n",
    "1. The TIF is played in fiji and the user has to follow the spot of interest with the mouse. A .mtrk file is created.\n",
    "2. Spots are detected using a s.d. threshold on a bandpass filtered image. The ROI is centered on the position of the mouse. The detected spot that is the closest to both the mouse position and the previous found spot is selected.\n",
    "3. Uses the iterative Gaussian mask fitting algorithm the localize and fit the spot.\n",
    "\n",
    "Parameters of the `trackUsingMouse()` function:\n",
    "- __`fnTif`__:         Full path of the TIF file to be tracked.\n",
    "- __`fnSuff`__:        Suffix added at the end of the TIF file name for the resulting .mtrk and .trk files.\n",
    "- __`fps`__:           Frame rate at which the movie is played during the manual tracking. If set to 0, the movie has to be played manually (e.g. with right/left arrows or with the mouse wheel). When going back and forth, only the last time a frame is played counts. If set to < 0, fiji macro will not be run so that the existing .mtrk file is re-used. (Default: 10.)\n",
    "- `psfPx`:         PSF size in pixels. Used for the bandpass filtering. (Default: 1.7)\n",
    "- __`thresholdSD`__:   Number of standard deviations used to detect objects in the bandpassed image. (Default: 5.)\n",
    "- `roiSize`:       Size in pixels of the ROI. (Default: 40)\n",
    "- `border`:        Number of pixels added one each side of the ROI in the bandpass filtering and removed afterwards. (Default: 3)\n",
    "- __`distThreshold`__: Maximal distance that the TS can be from the position of the mouse. Used for both object detection in the bandpassed-filtered image and for testing the convergence of the Gaussian fit algorithm. (Default: 20.)\n",
    "- `trackMemory`:   Maximal number of frames used for the location of the previous spot. If 0, only the distance to the mouse coordinates is used. (Default: 0)\n",
    "- `reactionDelay`: Time delay (in sec) by which the manual coordinates are expected to be lagging. (Default: 0.)\n",
    "- __`disp`__:          If 1, the result of the tracking is displayed as graphs. If 2, a ..._track.if file is created for visual inspection. Can be combined; e.g. disp=1+2. (Default: 1)"
   ]
  },
  {
   "cell_type": "code",
   "execution_count": null,
   "metadata": {
    "scrolled": false
   },
   "outputs": [],
   "source": [
    "basePath='E:/Coulon_data/CoulonLab Dropbox/data/Lorena/Chr1/190626/Analysis2h_190626_sgRNA130_2/'\n",
    "\n",
    "trk.trackUsingMouse(basePath+'MAX_190626_dCas9JF646-sg130_2-cell8_off0_nrmd.tif','_s4',fps=0,disp=3)\n"
   ]
  },
  {
   "cell_type": "code",
   "execution_count": null,
   "metadata": {},
   "outputs": [],
   "source": []
  }
 ],
 "metadata": {
  "kernelspec": {
   "display_name": "Python 3",
   "language": "python",
   "name": "python3"
  },
  "language_info": {
   "codemirror_mode": {
    "name": "ipython",
    "version": 3
   },
   "file_extension": ".py",
   "mimetype": "text/x-python",
   "name": "python",
   "nbconvert_exporter": "python",
   "pygments_lexer": "ipython3",
   "version": "3.7.0"
  }
 },
 "nbformat": 4,
 "nbformat_minor": 2
}
